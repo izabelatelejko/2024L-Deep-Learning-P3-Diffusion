{
 "cells": [
  {
   "cell_type": "code",
   "execution_count": 1,
   "metadata": {},
   "outputs": [],
   "source": [
    "import os\n",
    "os.environ[\"KMP_DUPLICATE_LIB_OK\"]=\"TRUE\""
   ]
  },
  {
   "cell_type": "code",
   "execution_count": 2,
   "metadata": {},
   "outputs": [],
   "source": [
    "import cv2\n",
    "import numpy as np\n",
    "from numpy import clip\n",
    "import matplotlib.pyplot as plt\n",
    "import os\n",
    "\n",
    "import torch\n",
    "from torch.utils.data import TensorDataset, DataLoader, Dataset\n",
    "import torch.nn.functional as F\n",
    "import torchvision.transforms as transforms\n",
    "from torchvision.datasets import ImageFolder\n",
    "from torch.utils.data import Subset\n",
    "from diffusers import DDPMPipeline, DDPMScheduler, UNet2DModel\n",
    "from diffusers.optimization import get_cosine_schedule_with_warmup\n",
    "\n",
    "from tqdm import tqdm"
   ]
  },
  {
   "cell_type": "code",
   "execution_count": 3,
   "metadata": {},
   "outputs": [],
   "source": [
    "GLOBAL_MEAN = np.load(\"data/global_mean.npy\")/255\n",
    "GLOBAL_STD = np.load(\"data/global_std.npy\")/255"
   ]
  },
  {
   "cell_type": "code",
   "execution_count": 4,
   "metadata": {},
   "outputs": [
    {
     "data": {
      "text/plain": [
       "device(type='cuda')"
      ]
     },
     "execution_count": 4,
     "metadata": {},
     "output_type": "execute_result"
    }
   ],
   "source": [
    "device = torch.device(\"cuda\" if torch.cuda.is_available() else \"cpu\")\n",
    "device"
   ]
  },
  {
   "cell_type": "code",
   "execution_count": 5,
   "metadata": {},
   "outputs": [],
   "source": [
    "resize_size = 64\n",
    "\n",
    "transform = transforms.Compose([\n",
    "    transforms.Resize((resize_size, resize_size)),\n",
    "    transforms.ToTensor(),\n",
    "    transforms.Normalize(mean=GLOBAL_MEAN, std=GLOBAL_STD)\n",
    "])\n",
    "\n",
    "data_path = 'data/data0/lsun/bedroom'\n",
    "batch_size = 16\n",
    "\n",
    "image_dataset = ImageFolder(root=data_path, transform=transform)\n",
    "image_dataset = Subset(image_dataset, torch.randperm(len(image_dataset))[:10000])\n",
    "train_dataloader = DataLoader(image_dataset, batch_size=batch_size, shuffle=True)\n",
    "\n",
    "for idx, batch in enumerate(train_dataloader):\n",
    "    break"
   ]
  },
  {
   "cell_type": "code",
   "execution_count": 6,
   "metadata": {},
   "outputs": [
    {
     "name": "stderr",
     "output_type": "stream",
     "text": [
      "Clipping input data to the valid range for imshow with RGB data ([0..1] for floats or [0..255] for integers).\n"
     ]
    },
    {
     "data": {
      "image/png": "[encoded data removed]",
      "text/plain": [
       "<Figure size 640x480 with 1 Axes>"
      ]
     },
     "metadata": {},
     "output_type": "display_data"
    }
   ],
   "source": [
    "plt.imshow(batch[0][np.random.randint(0, batch_size)].permute(1, 2, 0))\n",
    "plt.title(\"Random transformed image.\")\n",
    "plt.axis('off')\n",
    "plt.show()"
   ]
  },
  {
   "cell_type": "code",
   "execution_count": 100,
   "metadata": {},
   "outputs": [],
   "source": [
    "import torch\n",
    "import torch.nn as nn\n",
    "import torch.nn.functional as F\n",
    "\n",
    "class Block(nn.Module):\n",
    "    def __init__(self, in_channels, out_channels, size):\n",
    "        super(Block, self).__init__()\n",
    "        self.out_channels = out_channels\n",
    "        self.conv1 = nn.Conv2d(in_channels, out_channels, kernel_size=3, padding=1)\n",
    "        self.conv2 = nn.Conv2d(in_channels, out_channels, kernel_size=3, padding=1)\n",
    "        self.dense_time = nn.Linear(out_channels, out_channels)\n",
    "        self.norm = nn.LayerNorm([out_channels, size, size])\n",
    "\n",
    "    def forward(self, x, t):\n",
    "        x_parameter = F.relu(self.conv1(x))\n",
    "        time_parameter = F.relu(self.dense_time(t))\n",
    "        time_parameter = t.view(-1, self.out_channels, 1, 1)\n",
    "        x_parameter = x_parameter * time_parameter\n",
    "        x_out = F.relu(self.conv2(x) + x_parameter)\n",
    "        x_out = self.norm(x_out)\n",
    "        return x_out\n",
    "\n",
    "class UNet(nn.Module):\n",
    "    def __init__(self):\n",
    "        super().__init__()\n",
    "\n",
    "        self.block_down_1 = Block(in_channels=3, out_channels=resize_size, size=resize_size)\n",
    "        self.block_down_2 = Block(in_channels=resize_size, out_channels=resize_size, size=resize_size//2)\n",
    "        self.block_down_3 = Block(in_channels=resize_size, out_channels=resize_size, size=resize_size//4)\n",
    "\n",
    "        self.block_up_1 = Block(in_channels=resize_size*2, out_channels=resize_size, size=resize_size//4)\n",
    "        self.block_up_2 = Block(in_channels=resize_size*2, out_channels=resize_size, size=resize_size//2)\n",
    "        self.block_up_3 = Block(in_channels=resize_size*2, out_channels=resize_size, size=resize_size)\n",
    "\n",
    "        self.maxpool1 = nn.MaxPool2d(2)\n",
    "        self.maxpool2 = nn.MaxPool2d(2)\n",
    "        \n",
    "        self.flatten = nn.Flatten()\n",
    "        self.mlp_t_initial = nn.Linear(1, resize_size)\n",
    "        self.norm_t_initial = nn.LayerNorm([resize_size])\n",
    "\n",
    "        self.mlp_dense = nn.Linear(\n",
    "            resize_size + resize_size * (resize_size//4)**2, \n",
    "            resize_size*(resize_size//4)**2\n",
    "            )\n",
    "        self.mlp_norm = nn.LayerNorm([resize_size*(resize_size//4)**2])\n",
    "        self.conv_out = nn.Conv2d(resize_size, 3, kernel_size=1, padding=0)\n",
    "\n",
    "    def forward(self, x_img, x_ts):\n",
    "\n",
    "        x_ts = self.mlp_t_initial(x_ts)\n",
    "        x_ts = self.norm_t_initial(x_ts)\n",
    "        x_ts = F.relu(x_ts)\n",
    "\n",
    "        x1 = self.block_down_1(x_img, x_ts)\n",
    "        x = self.maxpool1(x1)\n",
    "        x2 = self.block_down_2(x, x_ts)\n",
    "        x = self.maxpool2(x2)\n",
    "        x3 = self.block_down_3(x, x_ts)\n",
    "       \n",
    "        x = x.view(-1, resize_size * resize_size//4 * resize_size//4)\n",
    "        x = torch.cat((x, x_ts), dim=1)\n",
    "        x = self.mlp_dense(x)\n",
    "        x = self.mlp_norm(x)\n",
    "        x = F.relu(x)\n",
    "        x = x.view(-1, resize_size, resize_size//4, resize_size//4)\n",
    "        \n",
    "        x = torch.cat((x, x3), dim=1)\n",
    "        x = self.block_up_1(x, x_ts)\n",
    "        x = F.interpolate(x, scale_factor=2, mode='bilinear')\n",
    "        \n",
    "        x = torch.cat((x, x2), dim=1)\n",
    "        x = self.block_up_2(x, x_ts)\n",
    "        x = F.interpolate(x, scale_factor=2, mode='bilinear')\n",
    "        \n",
    "        x = torch.cat((x, x1), dim=1)\n",
    "        x = self.block_up_3(x, x_ts)\n",
    "\n",
    "        x = self.conv_out(x)\n",
    "        return x\n",
    "\n",
    "model = UNet().to(device)\n",
    "\n",
    "optimizer = torch.optim.Adam(model.parameters(), lr=0.0008)\n",
    "loss_func = nn.MSELoss()"
   ]
  },
  {
   "cell_type": "code",
   "execution_count": 101,
   "metadata": {},
   "outputs": [],
   "source": [
    "t = torch.full([batch_size, 1], 1, dtype=torch.float)\n",
    "preds = model(batch[0].to(device), t.to(device))"
   ]
  },
  {
   "cell_type": "code",
   "execution_count": 42,
   "metadata": {},
   "outputs": [],
   "source": [
    "timesteps = 16\n",
    "time_bar = 1 - np.linspace(0, 1.0, timesteps + 1)\n",
    "\n",
    "def forward_noise(x, t):\n",
    "    a = time_bar[t]      # base on t\n",
    "    b = time_bar[t + 1]  # image for t + 1\n",
    "    \n",
    "    noise = np.random.normal(size=x.shape)  # noise mask\n",
    "    a = a.reshape((-1, 1, 1, 1))\n",
    "    b = b.reshape((-1, 1, 1, 1))\n",
    "    img_a = x * (1 - a) + noise * a\n",
    "    img_b = x * (1 - b) + noise * b\n",
    "    return img_a, img_b\n",
    "    \n",
    "def generate_ts(num):\n",
    "    return np.random.randint(0, timesteps, size=num)"
   ]
  },
  {
   "cell_type": "code",
   "execution_count": null,
   "metadata": {},
   "outputs": [],
   "source": [
    "epochs = 10\n",
    "for i in range(epochs):\n",
    "    for x_img, _ in tqdm(train_dataloader, f\"Epoch: {i}\"):\n",
    "        optimizer.zero_grad()\n",
    "        x_ts = generate_ts(len(x_img))\n",
    "        x_a, x_b = forward_noise(x_img, x_ts)\n",
    "\n",
    "        x_ts = torch.from_numpy(x_ts).view(-1, 1).float().to(device)\n",
    "        x_a = x_a.float().to(device)\n",
    "        x_b = x_b.float().to(device)\n",
    "\n",
    "        y_p = model(x_a, x_ts)\n",
    "        loss = torch.mean(torch.abs(y_p - x_b))\n",
    "        loss.backward()\n",
    "        optimizer.step()"
   ]
  },
  {
   "cell_type": "code",
   "execution_count": 102,
   "metadata": {},
   "outputs": [
    {
     "name": "stderr",
     "output_type": "stream",
     "text": [
      "Predicting...: 100%|██████████| 16/16 [00:00<00:00, 88.75it/s] \n"
     ]
    }
   ],
   "source": [
    "x = torch.randn(batch_size, 3, resize_size, resize_size).to(device)\n",
    "with torch.no_grad():\n",
    "    for i in tqdm(range(16), \"Predicting...\"):\n",
    "        t = i\n",
    "        x = model(x, torch.full([batch_size, 1], t, dtype=torch.float, device=device))\n",
    "        # plt.imshow(x[10].detach().permute(1, 2, 0).cpu())\n",
    "        # plt.show()"
   ]
  },
  {
   "cell_type": "code",
   "execution_count": 105,
   "metadata": {},
   "outputs": [
    {
     "name": "stderr",
     "output_type": "stream",
     "text": [
      "Clipping input data to the valid range for imshow with RGB data ([0..1] for floats or [0..255] for integers).\n"
     ]
    },
    {
     "data": {
      "image/png": "[encoded data removed]",
      "text/plain": [
       "<Figure size 640x480 with 1 Axes>"
      ]
     },
     "metadata": {},
     "output_type": "display_data"
    }
   ],
   "source": [
    "plt.imshow(x[8].detach().permute(1, 2, 0).cpu())\n",
    "plt.show()"
   ]
  }
 ],
 "metadata": {
  "kernelspec": {
   "display_name": "Python 3",
   "language": "python",
   "name": "python3"
  },
  "language_info": {
   "codemirror_mode": {
    "name": "ipython",
    "version": 3
   },
   "file_extension": ".py",
   "mimetype": "text/x-python",
   "name": "python",
   "nbconvert_exporter": "python",
   "pygments_lexer": "ipython3",
   "version": "3.10.14"
  }
 },
 "nbformat": 4,
 "nbformat_minor": 2
}
